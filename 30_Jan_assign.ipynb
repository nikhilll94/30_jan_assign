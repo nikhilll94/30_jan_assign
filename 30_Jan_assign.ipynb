{
 "cells": [
  {
   "cell_type": "markdown",
   "id": "5b54c76d-7a1c-403e-bf76-2492c1cdfbd9",
   "metadata": {},
   "source": [
    "## Ans 1)"
   ]
  },
  {
   "cell_type": "code",
   "execution_count": 10,
   "id": "d46f110a-986f-4bdc-bd04-2cbd7f073a2f",
   "metadata": {},
   "outputs": [
    {
     "name": "stdin",
     "output_type": "stream",
     "text": [
      " 90\n"
     ]
    },
    {
     "name": "stdout",
     "output_type": "stream",
     "text": [
      "B\n"
     ]
    }
   ],
   "source": [
    "marks = int(input())\n",
    "if(marks > 90 and marks <=100):\n",
    "    print(\"A\")\n",
    "elif (marks > 80 and marks <= 90):\n",
    "    print(\"B\")\n",
    "elif(marks >= 60 and marks <=80):\n",
    "    print(\"C\")\n",
    "elif(marks<60 and marks >= 0) :\n",
    "    print(\"D\")\n",
    "else :\n",
    "    print(\"Invalid\")"
   ]
  },
  {
   "cell_type": "markdown",
   "id": "8a2ea5ac-e0df-441a-95af-e821ea62ae54",
   "metadata": {},
   "source": [
    "## Ans 2)"
   ]
  },
  {
   "cell_type": "code",
   "execution_count": 9,
   "id": "1ed19aa6-52cb-4501-a490-0f7068c0e31f",
   "metadata": {},
   "outputs": [
    {
     "name": "stdin",
     "output_type": "stream",
     "text": [
      " 65000\n"
     ]
    },
    {
     "name": "stdout",
     "output_type": "stream",
     "text": [
      "6500.0\n"
     ]
    }
   ],
   "source": [
    "cost = int(input())\n",
    "if(cost > 100000):\n",
    "    print(cost * 0.15)\n",
    "elif(cost > 50000 and cost <= 100000):\n",
    "    print(cost * 0.10)\n",
    "else :\n",
    "    print(cost*0.05)"
   ]
  },
  {
   "cell_type": "markdown",
   "id": "8d19f759-c762-47aa-af06-a5b9b2bc47d4",
   "metadata": {},
   "source": [
    "## Ans 3)"
   ]
  },
  {
   "cell_type": "code",
   "execution_count": 12,
   "id": "9a068fc4-51df-4988-9627-6e14e9b152f7",
   "metadata": {},
   "outputs": [
    {
     "name": "stdin",
     "output_type": "stream",
     "text": [
      " Delhi\n"
     ]
    },
    {
     "name": "stdout",
     "output_type": "stream",
     "text": [
      "Red Fort\n"
     ]
    }
   ],
   "source": [
    "city = input()\n",
    "if(city == 'Delhi'):\n",
    "    print('Red Fort')\n",
    "elif (city == 'Agra'):\n",
    "    print('Taj Mahal')\n",
    "else :\n",
    "    print('Jal Mahal')\n",
    "    "
   ]
  },
  {
   "cell_type": "markdown",
   "id": "f8e93f44-c811-4eb8-8e0b-5af44a78e53f",
   "metadata": {},
   "source": [
    "## Ans 4)"
   ]
  },
  {
   "cell_type": "code",
   "execution_count": 20,
   "id": "1f7b9952-8a18-4038-8338-ba3b37679c6b",
   "metadata": {},
   "outputs": [
    {
     "name": "stdin",
     "output_type": "stream",
     "text": [
      " 729\n"
     ]
    },
    {
     "name": "stdout",
     "output_type": "stream",
     "text": [
      "4\n"
     ]
    }
   ],
   "source": [
    "n = int(input())\n",
    "count = 0\n",
    "while(n > 10):\n",
    "    count += 1\n",
    "    n = n/3\n",
    "print(count)"
   ]
  },
  {
   "cell_type": "markdown",
   "id": "1c349b36-756c-4d57-8139-e5c2c4c0c3e0",
   "metadata": {},
   "source": [
    "## Ans 5)"
   ]
  },
  {
   "cell_type": "code",
   "execution_count": 21,
   "id": "2ece250e-39ac-41e5-a6dc-ce257be34eb8",
   "metadata": {},
   "outputs": [
    {
     "name": "stdin",
     "output_type": "stream",
     "text": [
      " 29\n"
     ]
    },
    {
     "name": "stdout",
     "output_type": "stream",
     "text": [
      "1\n"
     ]
    }
   ],
   "source": [
    "# The while loop in Python is used to repeatedly execute a block of code as long as a given condition is true.\n",
    "# Example\n",
    "n = int(input())\n",
    "count = 0\n",
    "while(n > 10):\n",
    "    count += 1\n",
    "    n = n/3\n",
    "print(count)\n",
    "\n",
    "# IF N is greater than 10 then loop will continue to execute block of code written inside the while statement\n",
    "\n"
   ]
  },
  {
   "cell_type": "markdown",
   "id": "c1e2b185-f4b1-43d1-9d7c-51da8c9e5c37",
   "metadata": {},
   "source": [
    "## Ans 6)"
   ]
  },
  {
   "cell_type": "code",
   "execution_count": 23,
   "id": "34689bbc-6f22-4129-9af3-167b0f318ec3",
   "metadata": {},
   "outputs": [
    {
     "name": "stdout",
     "output_type": "stream",
     "text": [
      "* * * * * \n",
      "* * * * * \n",
      "* * * * * \n",
      "* * * * * \n",
      "* * * * * \n"
     ]
    }
   ],
   "source": [
    "# pattern 1\n",
    "n = 5\n",
    "row = 1\n",
    "while row <= n:\n",
    "    col = 1\n",
    "    while col <= n:\n",
    "        print(\"*\", end=\" \")\n",
    "        col += 1\n",
    "    print()\n",
    "    row += 1\n"
   ]
  },
  {
   "cell_type": "code",
   "execution_count": 24,
   "id": "8c495d8a-3771-429b-a3fe-b192bc89c517",
   "metadata": {},
   "outputs": [
    {
     "name": "stdout",
     "output_type": "stream",
     "text": [
      "* \n",
      "* * \n",
      "* * * \n",
      "* * * * \n",
      "* * * * * \n"
     ]
    }
   ],
   "source": [
    "# Pattern 2\n",
    "n = 5\n",
    "row = 1\n",
    "while row <= n:\n",
    "    col = 1\n",
    "    while col <= row:\n",
    "        print(\"*\", end=\" \")\n",
    "        col += 1\n",
    "    print()\n",
    "    row += 1\n"
   ]
  },
  {
   "cell_type": "code",
   "execution_count": 25,
   "id": "bfd1d390-7a7a-4af9-8155-2c010b6c92fc",
   "metadata": {},
   "outputs": [
    {
     "name": "stdout",
     "output_type": "stream",
     "text": [
      "        * \n",
      "      * * \n",
      "    * * * \n",
      "  * * * * \n",
      "* * * * * \n"
     ]
    }
   ],
   "source": [
    "# pattern 3\n",
    "n = 5\n",
    "row = 1\n",
    "while row <= n:\n",
    "    spaces = n - row\n",
    "    while spaces > 0:\n",
    "        print(\" \", end=\" \")\n",
    "        spaces -= 1\n",
    "\n",
    "    stars = 1\n",
    "    while stars <= row:\n",
    "        print(\"*\", end=\" \")\n",
    "        stars += 1\n",
    "\n",
    "    print()\n",
    "    row += 1\n"
   ]
  },
  {
   "cell_type": "markdown",
   "id": "9513ce3f-67ae-48ce-9329-6ccb8e1a77f3",
   "metadata": {},
   "source": [
    "## Ans 7)"
   ]
  },
  {
   "cell_type": "code",
   "execution_count": 26,
   "id": "6b5a1656-95af-4b59-a916-e764672e4f74",
   "metadata": {},
   "outputs": [
    {
     "name": "stdout",
     "output_type": "stream",
     "text": [
      "10\n",
      "9\n",
      "8\n",
      "7\n",
      "6\n",
      "5\n",
      "4\n",
      "3\n",
      "2\n",
      "1\n"
     ]
    }
   ],
   "source": [
    "num = 10\n",
    "while num >= 1:\n",
    "    print(num)\n",
    "    num -= 1\n"
   ]
  },
  {
   "cell_type": "markdown",
   "id": "80c9ad5c-7534-4623-85d6-cef37ec263cd",
   "metadata": {},
   "source": [
    "## Ans 8)"
   ]
  },
  {
   "cell_type": "code",
   "execution_count": 27,
   "id": "ab3d3475-fbf0-436b-a51e-a6d710342d51",
   "metadata": {},
   "outputs": [
    {
     "name": "stdout",
     "output_type": "stream",
     "text": [
      "10\n",
      "9\n",
      "8\n",
      "7\n",
      "6\n",
      "5\n",
      "4\n",
      "3\n",
      "2\n",
      "1\n"
     ]
    }
   ],
   "source": [
    "num = 10\n",
    "while num >= 1:\n",
    "    print(num)\n",
    "    num -= 1\n"
   ]
  },
  {
   "cell_type": "code",
   "execution_count": null,
   "id": "b13c6eff-756d-4771-b204-6e80d259d966",
   "metadata": {},
   "outputs": [],
   "source": []
  }
 ],
 "metadata": {
  "kernelspec": {
   "display_name": "Python 3 (ipykernel)",
   "language": "python",
   "name": "python3"
  },
  "language_info": {
   "codemirror_mode": {
    "name": "ipython",
    "version": 3
   },
   "file_extension": ".py",
   "mimetype": "text/x-python",
   "name": "python",
   "nbconvert_exporter": "python",
   "pygments_lexer": "ipython3",
   "version": "3.10.8"
  }
 },
 "nbformat": 4,
 "nbformat_minor": 5
}
